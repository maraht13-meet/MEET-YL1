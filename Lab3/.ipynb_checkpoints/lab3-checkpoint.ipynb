{
 "metadata": {
  "name": ""
 },
 "nbformat": 3,
 "nbformat_minor": 0,
 "worksheets": [
  {
   "cells": [
    {
     "cell_type": "code",
     "collapsed": false,
     "input": [
      "import csv"
     ],
     "language": "python",
     "metadata": {},
     "outputs": [],
     "prompt_number": 1
    },
    {
     "cell_type": "code",
     "collapsed": false,
     "input": [
      "f = open('cig.csv','rb') \n",
      "reader = csv.reader(f)\n",
      "tar_content = []\n",
      "nicotine_content = []\n",
      "weight = []\n",
      "carbon_monoxide_content = [] \n",
      "for row in reader:\n",
      "     if rownum == 0:\n",
      "        header = row\n",
      "    else:\n",
      "        e = map(float, row[0].split())\n",
      "        tar_content.append(e[1])\n",
      "        nicotine_conten.append(e[2])\n",
      "        weight.append(e[3])\n",
      "        carbon_monoxide_conten.append(e[4])\n",
      "    a = row[0]\n",
      "    b = a.replace(\"\\t\",\" \")\n",
      "    c = b.split()\n",
      "    d = c[1::]\n",
      "    e = map(float,d)\n",
      "    print e\n",
      "    \n",
      "f.close()\n"
     ],
     "language": "python",
     "metadata": {},
     "outputs": [
      {
       "ename": "IndentationError",
       "evalue": "unindent does not match any outer indentation level (<ipython-input-60-823198a9759b>, line 10)",
       "output_type": "pyerr",
       "traceback": [
        "\u001b[1;36m  File \u001b[1;32m\"<ipython-input-60-823198a9759b>\"\u001b[1;36m, line \u001b[1;32m10\u001b[0m\n\u001b[1;33m    else:\u001b[0m\n\u001b[1;37m         ^\u001b[0m\n\u001b[1;31mIndentationError\u001b[0m\u001b[1;31m:\u001b[0m unindent does not match any outer indentation level\n"
       ]
      }
     ],
     "prompt_number": 60
    },
    {
     "cell_type": "code",
     "collapsed": false,
     "input": [
      "                                                                                                \n",
      "    \n",
      "    \n"
     ],
     "language": "python",
     "metadata": {},
     "outputs": []
    }
   ],
   "metadata": {}
  }
 ]
}